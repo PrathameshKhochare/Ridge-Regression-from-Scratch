{
 "cells": [
  {
   "cell_type": "markdown",
   "id": "91fc03ae",
   "metadata": {},
   "source": [
    "### In this Notebook we will generate our own function for Ridge Regression."
   ]
  },
  {
   "cell_type": "code",
   "execution_count": 8,
   "id": "9427812e",
   "metadata": {},
   "outputs": [],
   "source": [
    "# Loading Libraries\n",
    "from sklearn.datasets import load_diabetes\n",
    "from sklearn.metrics import r2_score\n",
    "import numpy as np\n",
    "from sklearn.model_selection import train_test_split"
   ]
  },
  {
   "cell_type": "code",
   "execution_count": 3,
   "id": "91b27a6d",
   "metadata": {},
   "outputs": [],
   "source": [
    "# Independent and Dependent features\n",
    "X,y = load_diabetes(return_X_y = True)"
   ]
  },
  {
   "cell_type": "code",
   "execution_count": 6,
   "id": "94420e72",
   "metadata": {},
   "outputs": [
    {
     "data": {
      "text/plain": [
       "(442, 10)"
      ]
     },
     "execution_count": 6,
     "metadata": {},
     "output_type": "execute_result"
    }
   ],
   "source": [
    "X.shape"
   ]
  },
  {
   "cell_type": "code",
   "execution_count": 7,
   "id": "df1924e7",
   "metadata": {},
   "outputs": [
    {
     "data": {
      "text/plain": [
       "(442,)"
      ]
     },
     "execution_count": 7,
     "metadata": {},
     "output_type": "execute_result"
    }
   ],
   "source": [
    "y.shape"
   ]
  },
  {
   "cell_type": "code",
   "execution_count": 9,
   "id": "0eac127d",
   "metadata": {},
   "outputs": [],
   "source": [
    "X_train,X_test,y_train,y_test = train_test_split(X,y,test_size = 0.2, random_state = 2)"
   ]
  },
  {
   "cell_type": "markdown",
   "id": "3a5aba7d",
   "metadata": {},
   "source": [
    "### Stochastic Gradient Descent"
   ]
  },
  {
   "cell_type": "code",
   "execution_count": 10,
   "id": "967943f3",
   "metadata": {},
   "outputs": [],
   "source": [
    "from sklearn.linear_model import SGDRegressor"
   ]
  },
  {
   "cell_type": "code",
   "execution_count": 11,
   "id": "1637b5d0",
   "metadata": {},
   "outputs": [],
   "source": [
    "# SGD stands for Stochastic Gradient Descent\n",
    "reg = SGDRegressor(penalty = 'l2',max_iter = 500, eta0 = 0.1,learning_rate = 'constant', alpha = 0.001)"
   ]
  },
  {
   "cell_type": "code",
   "execution_count": 12,
   "id": "9cb15b2c",
   "metadata": {},
   "outputs": [
    {
     "data": {
      "text/plain": [
       "SGDRegressor(alpha=0.001, eta0=0.1, learning_rate='constant', max_iter=500)"
      ]
     },
     "execution_count": 12,
     "metadata": {},
     "output_type": "execute_result"
    }
   ],
   "source": [
    "reg.fit(X_train,y_train)"
   ]
  },
  {
   "cell_type": "code",
   "execution_count": 13,
   "id": "cd28e0e3",
   "metadata": {},
   "outputs": [],
   "source": [
    "y_pred = reg.predict(X_test)"
   ]
  },
  {
   "cell_type": "code",
   "execution_count": 15,
   "id": "0c4c45a7",
   "metadata": {},
   "outputs": [
    {
     "name": "stdout",
     "output_type": "stream",
     "text": [
      "R2 score is 0.43628507522204796\n"
     ]
    }
   ],
   "source": [
    "print(\"R2 score is\", r2_score(y_test,y_pred))"
   ]
  },
  {
   "cell_type": "code",
   "execution_count": 17,
   "id": "274e12cc",
   "metadata": {},
   "outputs": [
    {
     "name": "stdout",
     "output_type": "stream",
     "text": [
      "[  29.14896732 -115.06415611  394.9561455   263.8726506   -11.1710783\n",
      "  -67.98587546 -169.23662897  106.43352595  359.05260203  102.64981295]\n",
      "[161.31884936]\n"
     ]
    }
   ],
   "source": [
    "# Betas\n",
    "print(reg.coef_)\n",
    "# c\n",
    "print(reg.intercept_)"
   ]
  },
  {
   "cell_type": "markdown",
   "id": "8ca39d69",
   "metadata": {},
   "source": [
    "### Ridge Regressor"
   ]
  },
  {
   "cell_type": "code",
   "execution_count": 33,
   "id": "73f0c2f2",
   "metadata": {},
   "outputs": [],
   "source": [
    "from sklearn.linear_model import Ridge\n",
    "\n",
    "reg = Ridge(alpha = 0.001, max_iter = 500, solver=\"cholesky\")"
   ]
  },
  {
   "cell_type": "code",
   "execution_count": 34,
   "id": "ebfd2429",
   "metadata": {},
   "outputs": [
    {
     "data": {
      "text/plain": [
       "Ridge(alpha=0.001, max_iter=500, solver='cholesky')"
      ]
     },
     "execution_count": 34,
     "metadata": {},
     "output_type": "execute_result"
    }
   ],
   "source": [
    "reg.fit(X_train,y_train)"
   ]
  },
  {
   "cell_type": "code",
   "execution_count": 35,
   "id": "08136aea",
   "metadata": {},
   "outputs": [],
   "source": [
    "y_pred = reg.predict(X_test)"
   ]
  },
  {
   "cell_type": "code",
   "execution_count": 36,
   "id": "bd7d29d4",
   "metadata": {},
   "outputs": [
    {
     "name": "stdout",
     "output_type": "stream",
     "text": [
      "R2 score is 0.44086641800390625\n"
     ]
    }
   ],
   "source": [
    "print(\"R2 score is\", r2_score(y_test,y_pred))"
   ]
  },
  {
   "cell_type": "code",
   "execution_count": 37,
   "id": "fed96d25",
   "metadata": {},
   "outputs": [
    {
     "name": "stdout",
     "output_type": "stream",
     "text": [
      "[  -8.76358326 -204.32112488  518.3717286   339.97538458 -787.69076637\n",
      "  475.27471785  106.78654     114.63206266  819.73954207   52.87209972]\n",
      "151.88537325625248\n"
     ]
    }
   ],
   "source": [
    "# Betas\n",
    "print(reg.coef_)\n",
    "# c\n",
    "print(reg.intercept_)"
   ]
  },
  {
   "cell_type": "markdown",
   "id": "dcf1e718",
   "metadata": {},
   "source": [
    "### Using own class"
   ]
  },
  {
   "cell_type": "code",
   "execution_count": 38,
   "id": "58a5339a",
   "metadata": {},
   "outputs": [],
   "source": [
    "\n",
    "class MeraRidge:\n",
    "    \n",
    "    def __init__(self,alpha = 0.1):\n",
    "        self.alpha = alpha\n",
    "        self.coef_ = None\n",
    "        self.intercept_ = None\n",
    "        \n",
    "    def fit(self,X_train,y_train):\n",
    "        \n",
    "        # w = (x.T x + lamda I)inverse X.T y\n",
    "        X_train = np.insert(X_train,0,1,axis = 1)\n",
    "        \n",
    "        # for identity matrix having shape n*1 , n is shape of column\n",
    "        I = np.identity(X_train.shape[1])\n",
    "        I[0][0] = 0\n",
    "        result = np.linalg.inv(np.dot(X_train.T,X_train) + self.alpha * I).dot(X_train.T).dot(y_train)\n",
    "        self.intercept_ = result[0]\n",
    "        self.coef_ = result[1:]\n",
    "        \n",
    "    def pred(self,X_test):\n",
    "        # y = mx + c\n",
    "        return np.dot(X_test,self.coef_) + self.intercept_\n",
    "        \n"
   ]
  },
  {
   "cell_type": "code",
   "execution_count": 26,
   "id": "4b8a7656",
   "metadata": {},
   "outputs": [
    {
     "data": {
      "text/plain": [
       "array([[ 1.        , -0.00188202, -0.04464164, ..., -0.03949338,\n",
       "        -0.06291295,  0.04034337],\n",
       "       [ 1.        , -0.00914709, -0.04464164, ..., -0.03949338,\n",
       "         0.01703713, -0.0052198 ],\n",
       "       [ 1.        ,  0.02354575,  0.05068012, ..., -0.03949338,\n",
       "        -0.09643322, -0.01764613],\n",
       "       ...,\n",
       "       [ 1.        ,  0.06350368,  0.05068012, ..., -0.00259226,\n",
       "         0.08449528, -0.01764613],\n",
       "       [ 1.        , -0.05273755,  0.05068012, ...,  0.1081111 ,\n",
       "         0.03605579, -0.04249877],\n",
       "       [ 1.        ,  0.00175052,  0.05068012, ...,  0.1081111 ,\n",
       "         0.06898221,  0.12732762]])"
      ]
     },
     "execution_count": 26,
     "metadata": {},
     "output_type": "execute_result"
    }
   ],
   "source": [
    "np.insert(X_train,0,1,axis = 1)"
   ]
  },
  {
   "cell_type": "code",
   "execution_count": 27,
   "id": "6e22e8d1",
   "metadata": {},
   "outputs": [
    {
     "data": {
      "text/plain": [
       "array([[1., 0., 0., 0., 0., 0., 0., 0., 0., 0.],\n",
       "       [0., 1., 0., 0., 0., 0., 0., 0., 0., 0.],\n",
       "       [0., 0., 1., 0., 0., 0., 0., 0., 0., 0.],\n",
       "       [0., 0., 0., 1., 0., 0., 0., 0., 0., 0.],\n",
       "       [0., 0., 0., 0., 1., 0., 0., 0., 0., 0.],\n",
       "       [0., 0., 0., 0., 0., 1., 0., 0., 0., 0.],\n",
       "       [0., 0., 0., 0., 0., 0., 1., 0., 0., 0.],\n",
       "       [0., 0., 0., 0., 0., 0., 0., 1., 0., 0.],\n",
       "       [0., 0., 0., 0., 0., 0., 0., 0., 1., 0.],\n",
       "       [0., 0., 0., 0., 0., 0., 0., 0., 0., 1.]])"
      ]
     },
     "execution_count": 27,
     "metadata": {},
     "output_type": "execute_result"
    }
   ],
   "source": [
    "I = np.identity(X_train.shape[1])\n",
    "I"
   ]
  },
  {
   "cell_type": "code",
   "execution_count": 39,
   "id": "67fcd3a4",
   "metadata": {},
   "outputs": [
    {
     "name": "stdout",
     "output_type": "stream",
     "text": [
      "0.4519973816947851\n",
      "[   6.64275308 -172.24216584  485.52387163  314.68212174  -72.93932312\n",
      "  -80.59005344 -174.46651489   83.61665316  484.36328537   73.58415414]\n",
      "151.92548050708132\n"
     ]
    }
   ],
   "source": [
    "reg = MeraRidge()\n",
    "reg.fit(X_train,y_train)\n",
    "y_pred = reg.pred(X_test)\n",
    "print(r2_score(y_test,y_pred))\n",
    "print(reg.coef_)\n",
    "print(reg.intercept_)"
   ]
  },
  {
   "cell_type": "markdown",
   "id": "5f4b69e0",
   "metadata": {},
   "source": [
    "### Conclusion-\n",
    "**We calculated Ridge coefficient and intercept through both methods, Sklearn and from our own class.**\n",
    "\n",
    "* Both values are quite similar.\n"
   ]
  },
  {
   "cell_type": "code",
   "execution_count": null,
   "id": "430fb7fa",
   "metadata": {},
   "outputs": [],
   "source": []
  }
 ],
 "metadata": {
  "kernelspec": {
   "display_name": "Python 3 (ipykernel)",
   "language": "python",
   "name": "python3"
  },
  "language_info": {
   "codemirror_mode": {
    "name": "ipython",
    "version": 3
   },
   "file_extension": ".py",
   "mimetype": "text/x-python",
   "name": "python",
   "nbconvert_exporter": "python",
   "pygments_lexer": "ipython3",
   "version": "3.10.9"
  }
 },
 "nbformat": 4,
 "nbformat_minor": 5
}
